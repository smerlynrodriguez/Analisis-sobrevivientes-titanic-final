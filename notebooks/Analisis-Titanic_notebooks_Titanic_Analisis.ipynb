{
  "metadata": {
    "kernelspec": {
      "name": "python",
      "display_name": "Python (Pyodide)",
      "language": "python"
    },
    "language_info": {
      "codemirror_mode": {
        "name": "python",
        "version": 3
      },
      "file_extension": ".py",
      "mimetype": "text/x-python",
      "name": "python",
      "nbconvert_exporter": "python",
      "pygments_lexer": "ipython3",
      "version": "3.8"
    }
  },
  "nbformat_minor": 5,
  "nbformat": 4,
  "cells": [
    {
      "cell_type": "markdown",
      "source": "# Analisis de datos del Titanic",
      "metadata": {},
      "id": "61a74a8a-32d8-4c90-9272-809aa435129b"
    },
    {
      "cell_type": "markdown",
      "source": "## 1. Importando librerias necesarias para el analisis\n---",
      "metadata": {},
      "id": "2368269f-f2eb-4821-ba51-85ecdb7d568d"
    },
    {
      "cell_type": "code",
      "source": "import pandas as pd # Libreria para leer y manejar datos de tablas desde los archivos archivos .csv\nimport numpy as np # libreria para facilitar la realizacion operaciones matematicas avanzadas\nimport matplotlib.pyplot as plt # libreria para realizar graficos\nfrom sklearn.linear_model import LogisticRegression #libreria para entrenar modelos usando regresion logistica \nfrom sklearn.tree import DecisionTreeClassifier #libreria para entrenar modelos usando Arboles de decision \nfrom sklearn.metrics import plot_confusion_matrix # libreria para generar los graficos de los modelos",
      "metadata": {
        "trusted": true
      },
      "execution_count": 41,
      "outputs": [],
      "id": "55c9a745-3d3e-4233-acfc-41a63f1b12d5"
    },
    {
      "cell_type": "markdown",
      "source": "---\n## 2. Cargando los datasets\n---",
      "metadata": {},
      "id": "7de52de8-04ae-4954-aa6e-3facf97b7af2"
    },
    {
      "cell_type": "code",
      "source": "train = pd.read_csv('./../data/train.csv') # cargamos la informacion de los trenes desde la carpeta \"data\" ubicada un directorio atras\ntest = pd.read_csv('./../data/test.csv') # cargamos la informacion de los test realizados por kaggle desde la carpeta \"data\" ubicada un directorio atras",
      "metadata": {
        "trusted": true
      },
      "execution_count": 2,
      "outputs": [],
      "id": "278214a1-d7db-48ee-988d-17157d0ab54e"
    },
    {
      "cell_type": "code",
      "source": "train.head() # Cargamos un encabezado de la data de train para ver si los datos se cargaron correctamente",
      "metadata": {
        "trusted": true
      },
      "execution_count": 3,
      "outputs": [
        {
          "execution_count": 3,
          "output_type": "execute_result",
          "data": {
            "text/plain": "   PassengerId  Survived  Pclass  \\\n0            1         0       3   \n1            2         1       1   \n2            3         1       3   \n3            4         1       1   \n4            5         0       3   \n\n                                                Name     Sex   Age  SibSp  \\\n0                            Braund, Mr. Owen Harris    male  22.0      1   \n1  Cumings, Mrs. John Bradley (Florence Briggs Th...  female  38.0      1   \n2                             Heikkinen, Miss. Laina  female  26.0      0   \n3       Futrelle, Mrs. Jacques Heath (Lily May Peel)  female  35.0      1   \n4                           Allen, Mr. William Henry    male  35.0      0   \n\n   Parch            Ticket     Fare Cabin Embarked  \n0      0         A/5 21171   7.2500   NaN        S  \n1      0          PC 17599  71.2833   C85        C  \n2      0  STON/O2. 3101282   7.9250   NaN        S  \n3      0            113803  53.1000  C123        S  \n4      0            373450   8.0500   NaN        S  ",
            "text/html": "<div>\n<style scoped>\n    .dataframe tbody tr th:only-of-type {\n        vertical-align: middle;\n    }\n\n    .dataframe tbody tr th {\n        vertical-align: top;\n    }\n\n    .dataframe thead th {\n        text-align: right;\n    }\n</style>\n<table border=\"1\" class=\"dataframe\">\n  <thead>\n    <tr style=\"text-align: right;\">\n      <th></th>\n      <th>PassengerId</th>\n      <th>Survived</th>\n      <th>Pclass</th>\n      <th>Name</th>\n      <th>Sex</th>\n      <th>Age</th>\n      <th>SibSp</th>\n      <th>Parch</th>\n      <th>Ticket</th>\n      <th>Fare</th>\n      <th>Cabin</th>\n      <th>Embarked</th>\n    </tr>\n  </thead>\n  <tbody>\n    <tr>\n      <th>0</th>\n      <td>1</td>\n      <td>0</td>\n      <td>3</td>\n      <td>Braund, Mr. Owen Harris</td>\n      <td>male</td>\n      <td>22.0</td>\n      <td>1</td>\n      <td>0</td>\n      <td>A/5 21171</td>\n      <td>7.2500</td>\n      <td>NaN</td>\n      <td>S</td>\n    </tr>\n    <tr>\n      <th>1</th>\n      <td>2</td>\n      <td>1</td>\n      <td>1</td>\n      <td>Cumings, Mrs. John Bradley (Florence Briggs Th...</td>\n      <td>female</td>\n      <td>38.0</td>\n      <td>1</td>\n      <td>0</td>\n      <td>PC 17599</td>\n      <td>71.2833</td>\n      <td>C85</td>\n      <td>C</td>\n    </tr>\n    <tr>\n      <th>2</th>\n      <td>3</td>\n      <td>1</td>\n      <td>3</td>\n      <td>Heikkinen, Miss. Laina</td>\n      <td>female</td>\n      <td>26.0</td>\n      <td>0</td>\n      <td>0</td>\n      <td>STON/O2. 3101282</td>\n      <td>7.9250</td>\n      <td>NaN</td>\n      <td>S</td>\n    </tr>\n    <tr>\n      <th>3</th>\n      <td>4</td>\n      <td>1</td>\n      <td>1</td>\n      <td>Futrelle, Mrs. Jacques Heath (Lily May Peel)</td>\n      <td>female</td>\n      <td>35.0</td>\n      <td>1</td>\n      <td>0</td>\n      <td>113803</td>\n      <td>53.1000</td>\n      <td>C123</td>\n      <td>S</td>\n    </tr>\n    <tr>\n      <th>4</th>\n      <td>5</td>\n      <td>0</td>\n      <td>3</td>\n      <td>Allen, Mr. William Henry</td>\n      <td>male</td>\n      <td>35.0</td>\n      <td>0</td>\n      <td>0</td>\n      <td>373450</td>\n      <td>8.0500</td>\n      <td>NaN</td>\n      <td>S</td>\n    </tr>\n  </tbody>\n</table>\n</div>"
          },
          "metadata": {}
        }
      ],
      "id": "101fd785-5ed3-4a4b-9234-48420c90bc79"
    },
    {
      "cell_type": "markdown",
      "source": "---\n## 3. Revisamos que y exploramos los datos que hemos cargado\n---",
      "metadata": {},
      "id": "ab38f7dd-29a7-43e0-84b2-afe9093cc528"
    },
    {
      "cell_type": "code",
      "source": "train.columns # Obtenemos todas las columnas disponibles en la tabla y sus nombres",
      "metadata": {
        "trusted": true
      },
      "execution_count": 4,
      "outputs": [
        {
          "execution_count": 4,
          "output_type": "execute_result",
          "data": {
            "text/plain": "Index(['PassengerId', 'Survived', 'Pclass', 'Name', 'Sex', 'Age', 'SibSp',\n       'Parch', 'Ticket', 'Fare', 'Cabin', 'Embarked'],\n      dtype='object')"
          },
          "metadata": {}
        }
      ],
      "id": "48d9abb9-2e11-4bd7-a771-5f358c112f0f"
    },
    {
      "cell_type": "code",
      "source": "train.shape #  Obtenemos las dimenciones de la tabla, (filas y columnas)",
      "metadata": {
        "trusted": true
      },
      "execution_count": 5,
      "outputs": [
        {
          "execution_count": 5,
          "output_type": "execute_result",
          "data": {
            "text/plain": "(891, 12)"
          },
          "metadata": {}
        }
      ],
      "id": "d2c30582-f642-43a2-9613-ec328dd08b8f"
    },
    {
      "cell_type": "code",
      "source": "table_info = train.info() # Vemos la informacion de la tabla (Tipo de dato, Si posee campos que admitan valores nulos y la cantidad de datos de cada columna)\n                          # Esto nos sirve para determinar que tipo de campos son cada columna, y para ver los datos que faltan en la tabla por cada columna",
      "metadata": {
        "trusted": true
      },
      "execution_count": 6,
      "outputs": [
        {
          "name": "stdout",
          "text": "<class 'pandas.core.frame.DataFrame'>\nRangeIndex: 891 entries, 0 to 890\nData columns (total 12 columns):\n #   Column       Non-Null Count  Dtype  \n---  ------       --------------  -----  \n 0   PassengerId  891 non-null    int64  \n 1   Survived     891 non-null    int64  \n 2   Pclass       891 non-null    int64  \n 3   Name         891 non-null    object \n 4   Sex          891 non-null    object \n 5   Age          714 non-null    float64\n 6   SibSp        891 non-null    int64  \n 7   Parch        891 non-null    int64  \n 8   Ticket       891 non-null    object \n 9   Fare         891 non-null    float64\n 10  Cabin        204 non-null    object \n 11  Embarked     889 non-null    object \ndtypes: float64(2), int64(5), object(5)\nmemory usage: 66.2+ KB\n",
          "output_type": "stream"
        }
      ],
      "id": "0765d564-7782-4c3d-a536-c0a3d54b50f1"
    },
    {
      "cell_type": "code",
      "source": "train.describe() # Obtenemos informacion sobre como se distribuyen las variables numericas a lo largo de la tabla(Conteo, promedio, minimos, maximos, mediana)",
      "metadata": {
        "trusted": true
      },
      "execution_count": 7,
      "outputs": [
        {
          "execution_count": 7,
          "output_type": "execute_result",
          "data": {
            "text/plain": "       PassengerId    Survived      Pclass         Age       SibSp  \\\ncount   891.000000  891.000000  891.000000  714.000000  891.000000   \nmean    446.000000    0.383838    2.308642   29.699118    0.523008   \nstd     257.353842    0.486592    0.836071   14.526497    1.102743   \nmin       1.000000    0.000000    1.000000    0.420000    0.000000   \n25%     223.500000    0.000000    2.000000   20.125000    0.000000   \n50%     446.000000    0.000000    3.000000   28.000000    0.000000   \n75%     668.500000    1.000000    3.000000   38.000000    1.000000   \nmax     891.000000    1.000000    3.000000   80.000000    8.000000   \n\n            Parch        Fare  \ncount  891.000000  891.000000  \nmean     0.381594   32.204208  \nstd      0.806057   49.693429  \nmin      0.000000    0.000000  \n25%      0.000000    7.910400  \n50%      0.000000   14.454200  \n75%      0.000000   31.000000  \nmax      6.000000  512.329200  ",
            "text/html": "<div>\n<style scoped>\n    .dataframe tbody tr th:only-of-type {\n        vertical-align: middle;\n    }\n\n    .dataframe tbody tr th {\n        vertical-align: top;\n    }\n\n    .dataframe thead th {\n        text-align: right;\n    }\n</style>\n<table border=\"1\" class=\"dataframe\">\n  <thead>\n    <tr style=\"text-align: right;\">\n      <th></th>\n      <th>PassengerId</th>\n      <th>Survived</th>\n      <th>Pclass</th>\n      <th>Age</th>\n      <th>SibSp</th>\n      <th>Parch</th>\n      <th>Fare</th>\n    </tr>\n  </thead>\n  <tbody>\n    <tr>\n      <th>count</th>\n      <td>891.000000</td>\n      <td>891.000000</td>\n      <td>891.000000</td>\n      <td>714.000000</td>\n      <td>891.000000</td>\n      <td>891.000000</td>\n      <td>891.000000</td>\n    </tr>\n    <tr>\n      <th>mean</th>\n      <td>446.000000</td>\n      <td>0.383838</td>\n      <td>2.308642</td>\n      <td>29.699118</td>\n      <td>0.523008</td>\n      <td>0.381594</td>\n      <td>32.204208</td>\n    </tr>\n    <tr>\n      <th>std</th>\n      <td>257.353842</td>\n      <td>0.486592</td>\n      <td>0.836071</td>\n      <td>14.526497</td>\n      <td>1.102743</td>\n      <td>0.806057</td>\n      <td>49.693429</td>\n    </tr>\n    <tr>\n      <th>min</th>\n      <td>1.000000</td>\n      <td>0.000000</td>\n      <td>1.000000</td>\n      <td>0.420000</td>\n      <td>0.000000</td>\n      <td>0.000000</td>\n      <td>0.000000</td>\n    </tr>\n    <tr>\n      <th>25%</th>\n      <td>223.500000</td>\n      <td>0.000000</td>\n      <td>2.000000</td>\n      <td>20.125000</td>\n      <td>0.000000</td>\n      <td>0.000000</td>\n      <td>7.910400</td>\n    </tr>\n    <tr>\n      <th>50%</th>\n      <td>446.000000</td>\n      <td>0.000000</td>\n      <td>3.000000</td>\n      <td>28.000000</td>\n      <td>0.000000</td>\n      <td>0.000000</td>\n      <td>14.454200</td>\n    </tr>\n    <tr>\n      <th>75%</th>\n      <td>668.500000</td>\n      <td>1.000000</td>\n      <td>3.000000</td>\n      <td>38.000000</td>\n      <td>1.000000</td>\n      <td>0.000000</td>\n      <td>31.000000</td>\n    </tr>\n    <tr>\n      <th>max</th>\n      <td>891.000000</td>\n      <td>1.000000</td>\n      <td>3.000000</td>\n      <td>80.000000</td>\n      <td>8.000000</td>\n      <td>6.000000</td>\n      <td>512.329200</td>\n    </tr>\n  </tbody>\n</table>\n</div>"
          },
          "metadata": {}
        }
      ],
      "id": "51117df7-31e6-46f0-9db5-48f31da5dcdb"
    },
    {
      "cell_type": "code",
      "source": "train.describe(include=['O']) # Obtenemos informacion sobre las variables categoricas de la tabla",
      "metadata": {
        "trusted": true
      },
      "execution_count": 8,
      "outputs": [
        {
          "execution_count": 8,
          "output_type": "execute_result",
          "data": {
            "text/plain": "                           Name   Sex  Ticket    Cabin Embarked\ncount                       891   891     891      204      889\nunique                      891     2     681      147        3\ntop     Braund, Mr. Owen Harris  male  347082  B96 B98        S\nfreq                          1   577       7        4      644",
            "text/html": "<div>\n<style scoped>\n    .dataframe tbody tr th:only-of-type {\n        vertical-align: middle;\n    }\n\n    .dataframe tbody tr th {\n        vertical-align: top;\n    }\n\n    .dataframe thead th {\n        text-align: right;\n    }\n</style>\n<table border=\"1\" class=\"dataframe\">\n  <thead>\n    <tr style=\"text-align: right;\">\n      <th></th>\n      <th>Name</th>\n      <th>Sex</th>\n      <th>Ticket</th>\n      <th>Cabin</th>\n      <th>Embarked</th>\n    </tr>\n  </thead>\n  <tbody>\n    <tr>\n      <th>count</th>\n      <td>891</td>\n      <td>891</td>\n      <td>891</td>\n      <td>204</td>\n      <td>889</td>\n    </tr>\n    <tr>\n      <th>unique</th>\n      <td>891</td>\n      <td>2</td>\n      <td>681</td>\n      <td>147</td>\n      <td>3</td>\n    </tr>\n    <tr>\n      <th>top</th>\n      <td>Braund, Mr. Owen Harris</td>\n      <td>male</td>\n      <td>347082</td>\n      <td>B96 B98</td>\n      <td>S</td>\n    </tr>\n    <tr>\n      <th>freq</th>\n      <td>1</td>\n      <td>577</td>\n      <td>7</td>\n      <td>4</td>\n      <td>644</td>\n    </tr>\n  </tbody>\n</table>\n</div>"
          },
          "metadata": {}
        }
      ],
      "id": "1fd18983-e085-4224-9346-7abf0323bd0a"
    },
    {
      "cell_type": "markdown",
      "source": "---\n## 4. EDA - Estudio de las variable objetivo:\n#### Marco teorico\n- Problematica / Pregunta de investigacion: Existio alguna relacion entre los sobrevivientes del titanic y sus caracteristicas al abordar el mismo?.\n- Solucion: Analizar estadisticamente las variables que que se vieron involucradas.\n- Planteamiento: Analizar como se comportaron los sobrevivientes del titanic con respecto a otras variables.\n- Objetivo: Encontrar un patron logico que correlacione la la supervivencia con respecto a otros atributos/variables asociados a los supervivientes.\n- Prueba: Generar predicciones con los datos obtenidos.\n---",
      "metadata": {},
      "id": "1ada3237-9ee6-47ad-a057-be44b29f2ce8"
    },
    {
      "cell_type": "code",
      "source": "train.groupby(['Survived']).count()['PassengerId'] # Primero obtenemos la cantidad de pasajeros que sobrevivieron (1), y que no sobrevivieron (0) de la data.",
      "metadata": {
        "trusted": true
      },
      "execution_count": 9,
      "outputs": [
        {
          "execution_count": 9,
          "output_type": "execute_result",
          "data": {
            "text/plain": "Survived\n0    549\n1    342\nName: PassengerId, dtype: int64"
          },
          "metadata": {}
        }
      ],
      "id": "addc3103-2ec6-4af2-99ae-2fcddab66947"
    },
    {
      "cell_type": "code",
      "source": "grouped_sex = train.groupby(['Survived','Sex']).count()['PassengerId'] # Luego observamos que como se distribuye el sexo entre los sobrevivientes\ngrouped_sex.unstack(level=0)                                           # Cuanto de los sobrebiventes eran hombres y cuantos mujeres y lo asignamos a una variable",
      "metadata": {
        "trusted": true
      },
      "execution_count": 10,
      "outputs": [
        {
          "execution_count": 10,
          "output_type": "execute_result",
          "data": {
            "text/plain": "Survived    0    1\nSex               \nfemale     81  233\nmale      468  109",
            "text/html": "<div>\n<style scoped>\n    .dataframe tbody tr th:only-of-type {\n        vertical-align: middle;\n    }\n\n    .dataframe tbody tr th {\n        vertical-align: top;\n    }\n\n    .dataframe thead th {\n        text-align: right;\n    }\n</style>\n<table border=\"1\" class=\"dataframe\">\n  <thead>\n    <tr style=\"text-align: right;\">\n      <th>Survived</th>\n      <th>0</th>\n      <th>1</th>\n    </tr>\n    <tr>\n      <th>Sex</th>\n      <th></th>\n      <th></th>\n    </tr>\n  </thead>\n  <tbody>\n    <tr>\n      <th>female</th>\n      <td>81</td>\n      <td>233</td>\n    </tr>\n    <tr>\n      <th>male</th>\n      <td>468</td>\n      <td>109</td>\n    </tr>\n  </tbody>\n</table>\n</div>"
          },
          "metadata": {}
        }
      ],
      "id": "ab7862b9-d8f2-4a19-9d60-6f61c8196954"
    },
    {
      "cell_type": "code",
      "source": "(grouped_sex.unstack(level=0).plot.bar()) # Generamos un grafico para analizar el comportamiento de esta tabla y lo mostramos por pantalla\nplt.show()",
      "metadata": {
        "trusted": true
      },
      "execution_count": 11,
      "outputs": [
        {
          "output_type": "display_data",
          "data": {
            "text/plain": "<pyolite.display.Image at 0x3ce71d0>",
            "image/png": "[encoded data removed]"
          },
          "metadata": {}
        }
      ],
      "id": "856d96a3-34a7-4ca1-bc29-deaddec470fb"
    },
    {
      "cell_type": "markdown",
      "source": "> ### *Aqui podemos notar que la mayoria de los pasajeros que lograron sobrevivir eran mujeres, mientras que de los que no sobrevivieron, la mayoria eran hombres*",
      "metadata": {},
      "id": "f33b13c4-1f84-4f83-9524-3c6ec3863d03"
    },
    {
      "cell_type": "markdown",
      "source": "---\n## 5.Procesamiento de datos\n#### Seleccionamos las variables que queremos trabajar\n- Survived\n- Sex\n- Age\n- Pclass\n---",
      "metadata": {},
      "id": "f0fc9547-0d07-4d22-abc1-470c59a53577"
    },
    {
      "cell_type": "code",
      "source": "train[['Survived', 'Sex', 'Age', 'Pclass']].head(3) #Generamos una tabla con los 3 primeros registros de las variables que hemos seleccionado",
      "metadata": {
        "trusted": true
      },
      "execution_count": 12,
      "outputs": [
        {
          "execution_count": 12,
          "output_type": "execute_result",
          "data": {
            "text/plain": "   Survived     Sex   Age  Pclass\n0         0    male  22.0       3\n1         1  female  38.0       1\n2         1  female  26.0       3",
            "text/html": "<div>\n<style scoped>\n    .dataframe tbody tr th:only-of-type {\n        vertical-align: middle;\n    }\n\n    .dataframe tbody tr th {\n        vertical-align: top;\n    }\n\n    .dataframe thead th {\n        text-align: right;\n    }\n</style>\n<table border=\"1\" class=\"dataframe\">\n  <thead>\n    <tr style=\"text-align: right;\">\n      <th></th>\n      <th>Survived</th>\n      <th>Sex</th>\n      <th>Age</th>\n      <th>Pclass</th>\n    </tr>\n  </thead>\n  <tbody>\n    <tr>\n      <th>0</th>\n      <td>0</td>\n      <td>male</td>\n      <td>22.0</td>\n      <td>3</td>\n    </tr>\n    <tr>\n      <th>1</th>\n      <td>1</td>\n      <td>female</td>\n      <td>38.0</td>\n      <td>1</td>\n    </tr>\n    <tr>\n      <th>2</th>\n      <td>1</td>\n      <td>female</td>\n      <td>26.0</td>\n      <td>3</td>\n    </tr>\n  </tbody>\n</table>\n</div>"
          },
          "metadata": {}
        }
      ],
      "id": "537ed9f4-51c8-489b-a631-3806ddbcaa68"
    },
    {
      "cell_type": "code",
      "source": "train[['Survived', 'Sex', 'Age', 'Pclass']].info() # Comprobamos nuevamente la distribucion de los datos entre nuestras diferentes variables y si poseen valores nulos",
      "metadata": {
        "trusted": true
      },
      "execution_count": 13,
      "outputs": [
        {
          "name": "stdout",
          "text": "<class 'pandas.core.frame.DataFrame'>\nRangeIndex: 891 entries, 0 to 890\nData columns (total 4 columns):\n #   Column    Non-Null Count  Dtype  \n---  ------    --------------  -----  \n 0   Survived  891 non-null    int64  \n 1   Sex       891 non-null    object \n 2   Age       714 non-null    float64\n 3   Pclass    891 non-null    int64  \ndtypes: float64(1), int64(2), object(1)\nmemory usage: 24.4+ KB\n",
          "output_type": "stream"
        }
      ],
      "id": "b479a999-16c5-42e8-871c-3a08a40344f6"
    },
    {
      "cell_type": "markdown",
      "source": "**Nota: Segun el output de el paso anterior notamos los siguentes puntos:**\n- La variable Sex, es una variable de tipo objeto, esto puede generar problemas mas adelante con el procesamiento de los datos\n- La columna Age, posee valores nulos(sin datos) por lo cual debemos de solucionar ese problemas antes de seguir con el procesameinto\n**Puntos a mejorar de la tabla:**\n> Convertir la variable Sex a un tipo de dato que sea Float, o Int\n\n> Agregar los datos faltantes a la columna Age, o en su defecto eliminar las filas que no contengan datos",
      "metadata": {},
      "id": "284af522-e01c-4848-8888-0969299c8ba2"
    },
    {
      "cell_type": "code",
      "source": "(train[train['Age'].isna()] \n      .groupby(['Sex', 'Pclass']) # Observamos los valores nulos en la variable edad, asi determinaremos como trataremos estos campos\n      .count()['PassengerId']\n      .unstack(level=0))",
      "metadata": {
        "trusted": true
      },
      "execution_count": 14,
      "outputs": [
        {
          "execution_count": 14,
          "output_type": "execute_result",
          "data": {
            "text/plain": "Sex     female  male\nPclass              \n1            9    21\n2            2     9\n3           42    94",
            "text/html": "<div>\n<style scoped>\n    .dataframe tbody tr th:only-of-type {\n        vertical-align: middle;\n    }\n\n    .dataframe tbody tr th {\n        vertical-align: top;\n    }\n\n    .dataframe thead th {\n        text-align: right;\n    }\n</style>\n<table border=\"1\" class=\"dataframe\">\n  <thead>\n    <tr style=\"text-align: right;\">\n      <th>Sex</th>\n      <th>female</th>\n      <th>male</th>\n    </tr>\n    <tr>\n      <th>Pclass</th>\n      <th></th>\n      <th></th>\n    </tr>\n  </thead>\n  <tbody>\n    <tr>\n      <th>1</th>\n      <td>9</td>\n      <td>21</td>\n    </tr>\n    <tr>\n      <th>2</th>\n      <td>2</td>\n      <td>9</td>\n    </tr>\n    <tr>\n      <th>3</th>\n      <td>42</td>\n      <td>94</td>\n    </tr>\n  </tbody>\n</table>\n</div>"
          },
          "metadata": {}
        }
      ],
      "id": "908b013d-a8ed-4ba5-a57f-4612b26e493d"
    },
    {
      "cell_type": "markdown",
      "source": "**Nota: Segun el output de el paso anterior notamos los siguentes puntos:**\n- La mayoria de los campos que no tienen la edad registrada viajan en tercera clase.\n- La mayoria de los que viajan en tercera clase que no registraron su edada son hombres.\n\n> ***La mayoria de los pasajeros que no registraron su edad, fueron hombres que viajaron en tercera clase***",
      "metadata": {},
      "id": "60f0db30-d42e-467c-bf06-89c50a56d964"
    },
    {
      "cell_type": "code",
      "source": "(train[train['Age'].isna()] \n      .groupby(['SibSp', 'Parch']) # Analizamos cuales son los parientes de las personas que no registraron su edad\n      .count()['PassengerId']\n      .unstack(level=0))",
      "metadata": {
        "trusted": true
      },
      "execution_count": 15,
      "outputs": [
        {
          "execution_count": 15,
          "output_type": "execute_result",
          "data": {
            "text/plain": "SibSp      0     1    2    3    8\nParch                            \n0      133.0  21.0  3.0  NaN  NaN\n1        1.0   3.0  NaN  4.0  NaN\n2        3.0   2.0  NaN  NaN  7.0",
            "text/html": "<div>\n<style scoped>\n    .dataframe tbody tr th:only-of-type {\n        vertical-align: middle;\n    }\n\n    .dataframe tbody tr th {\n        vertical-align: top;\n    }\n\n    .dataframe thead th {\n        text-align: right;\n    }\n</style>\n<table border=\"1\" class=\"dataframe\">\n  <thead>\n    <tr style=\"text-align: right;\">\n      <th>SibSp</th>\n      <th>0</th>\n      <th>1</th>\n      <th>2</th>\n      <th>3</th>\n      <th>8</th>\n    </tr>\n    <tr>\n      <th>Parch</th>\n      <th></th>\n      <th></th>\n      <th></th>\n      <th></th>\n      <th></th>\n    </tr>\n  </thead>\n  <tbody>\n    <tr>\n      <th>0</th>\n      <td>133.0</td>\n      <td>21.0</td>\n      <td>3.0</td>\n      <td>NaN</td>\n      <td>NaN</td>\n    </tr>\n    <tr>\n      <th>1</th>\n      <td>1.0</td>\n      <td>3.0</td>\n      <td>NaN</td>\n      <td>4.0</td>\n      <td>NaN</td>\n    </tr>\n    <tr>\n      <th>2</th>\n      <td>3.0</td>\n      <td>2.0</td>\n      <td>NaN</td>\n      <td>NaN</td>\n      <td>7.0</td>\n    </tr>\n  </tbody>\n</table>\n</div>"
          },
          "metadata": {}
        }
      ],
      "id": "dbb3fb97-eda7-480d-b520-ed448c0d8366"
    },
    {
      "cell_type": "markdown",
      "source": "**Nota: Segun el output de el paso anterior notamos los siguentes puntos:**\n- La gran mayoria son personas que viajaban totalmente solas.\n- La gran mayoria de las personas que viajaban solas lo hacian en tercera clase.\n\n> ***Podemos crear una variable que nos diga si la persona viajaba sola o acompanada***",
      "metadata": {},
      "id": "65af0568-3b91-4f12-b7ef-eb5794c37281"
    },
    {
      "cell_type": "code",
      "source": "train['Age'].median() #Vemos la media de la edad para rellenar los datos faltantes en nuestra nueva tabla",
      "metadata": {
        "trusted": true
      },
      "execution_count": 37,
      "outputs": [
        {
          "execution_count": 37,
          "output_type": "execute_result",
          "data": {
            "text/plain": "28.0"
          },
          "metadata": {}
        }
      ],
      "id": "557c3c45-f897-454a-831c-7374ed8ad0f0"
    },
    {
      "cell_type": "code",
      "source": "train['Age'] = train['Age'].fillna(28.0) # Llenamos los valores faltantes en la edad con el resultado de la media\ntrain[['Survived', 'Sex', 'Age', 'Pclass']].info() # Mostramos nuevamente la distribucion de los datos en la tabla para asegurarnos que ya no existen valores nulos",
      "metadata": {
        "trusted": true
      },
      "execution_count": 17,
      "outputs": [
        {
          "name": "stdout",
          "text": "<class 'pandas.core.frame.DataFrame'>\nRangeIndex: 891 entries, 0 to 890\nData columns (total 4 columns):\n #   Column    Non-Null Count  Dtype  \n---  ------    --------------  -----  \n 0   Survived  891 non-null    int64  \n 1   Sex       891 non-null    object \n 2   Age       891 non-null    float64\n 3   Pclass    891 non-null    int64  \ndtypes: float64(1), int64(2), object(1)\nmemory usage: 24.4+ KB\n",
          "output_type": "stream"
        }
      ],
      "id": "dc76e79f-9032-48d4-9ee9-b7d796290240"
    },
    {
      "cell_type": "markdown",
      "source": "#### En este punto ya hemos solucionado el problema de la variable edad, ya no posee valores nulos",
      "metadata": {},
      "id": "8449194d-cf31-47d0-abf2-f1ea73d6fd79"
    },
    {
      "cell_type": "code",
      "source": "train['Sex'] = train['Sex'].map({'female': 1, 'male': 0}).astype(int) # Aqui lo que hacemos es decirle a la variable sexo que donde Female = 1 y Male = 0",
      "metadata": {
        "trusted": true
      },
      "execution_count": 18,
      "outputs": [],
      "id": "92be8b64-bd10-4688-b276-7b98c09d7904"
    },
    {
      "cell_type": "markdown",
      "source": "#### Con esto ya solucionamos el problema de que el tipo de variable Sex no sea object, sino int",
      "metadata": {},
      "id": "5bf2225f-b30b-4d05-bed9-4ff892cc7da1"
    },
    {
      "cell_type": "code",
      "source": "train[['Survived', 'Sex', 'Age', 'Pclass']].head(3) # Mostramos nuevamente los 3 primeros valores de nuestra tabla para comprobar que todo se encuentra de manera correcta",
      "metadata": {
        "trusted": true
      },
      "execution_count": 19,
      "outputs": [
        {
          "execution_count": 19,
          "output_type": "execute_result",
          "data": {
            "text/plain": "   Survived  Sex   Age  Pclass\n0         0    0  22.0       3\n1         1    1  38.0       1\n2         1    1  26.0       3",
            "text/html": "<div>\n<style scoped>\n    .dataframe tbody tr th:only-of-type {\n        vertical-align: middle;\n    }\n\n    .dataframe tbody tr th {\n        vertical-align: top;\n    }\n\n    .dataframe thead th {\n        text-align: right;\n    }\n</style>\n<table border=\"1\" class=\"dataframe\">\n  <thead>\n    <tr style=\"text-align: right;\">\n      <th></th>\n      <th>Survived</th>\n      <th>Sex</th>\n      <th>Age</th>\n      <th>Pclass</th>\n    </tr>\n  </thead>\n  <tbody>\n    <tr>\n      <th>0</th>\n      <td>0</td>\n      <td>0</td>\n      <td>22.0</td>\n      <td>3</td>\n    </tr>\n    <tr>\n      <th>1</th>\n      <td>1</td>\n      <td>1</td>\n      <td>38.0</td>\n      <td>1</td>\n    </tr>\n    <tr>\n      <th>2</th>\n      <td>1</td>\n      <td>1</td>\n      <td>26.0</td>\n      <td>3</td>\n    </tr>\n  </tbody>\n</table>\n</div>"
          },
          "metadata": {}
        }
      ],
      "id": "30c5bb54-f554-4397-889a-fbbe44add37c"
    },
    {
      "cell_type": "code",
      "source": "train['FlagSolo'] = np.where(\n    (train['SibSp'] == 0) & (train['Parch'] == 0), 1, 0) # Creamos una variable que genere un campo que tendra 0 o 1 si esta persona viajaba acompanada  0 y si no 1",
      "metadata": {
        "trusted": true
      },
      "execution_count": 20,
      "outputs": [],
      "id": "9427f728-77b8-4ed1-a8c9-8421264fc765"
    },
    {
      "cell_type": "markdown",
      "source": "> En este punto ya hemos creado una variable en la tabla para saber si nuestro pasajero viajaba solo o no.",
      "metadata": {},
      "id": "82a8a787-71eb-481b-8cbe-da76006c4064"
    },
    {
      "cell_type": "code",
      "source": "# Creamos una grafica para verificar la correlacion entre los sobrevivientes y si viajaban solos o no\ngrouped_flag = train.groupby(['Survived','FlagSolo']).count()['PassengerId']\nprint(grouped_flag)\n(grouped_flag.unstack(level=0).plot.bar())\nplt.show()",
      "metadata": {
        "trusted": true
      },
      "execution_count": 21,
      "outputs": [
        {
          "name": "stdout",
          "text": "Survived  FlagSolo\n0         0           175\n          1           374\n1         0           179\n          1           163\nName: PassengerId, dtype: int64\n",
          "output_type": "stream"
        },
        {
          "output_type": "display_data",
          "data": {
            "text/plain": "<pyolite.display.Image at 0x3a08968>",
            "image/png": "[encoded data removed]"
          },
          "metadata": {}
        }
      ],
      "id": "2763afec-677c-42dd-aaf8-3b2a96043875"
    },
    {
      "cell_type": "markdown",
      "source": "**Nota: Segun el output de el paso anterior notamos los siguentes puntos:**\n- Las personas que no viajaban solos sobrevivieron mas que las que si\n- La mayoria de los no viajaban solos sobrevivieron\n- La mayoria de las personas que no sobrevivieron viajaban solos\n\n> **Al parecer los que no viajaban solos tenian mas tendencia a sobrevivir que los que si**",
      "metadata": {},
      "id": "03e2d3fb-877c-4946-ad34-7717251c912d"
    },
    {
      "cell_type": "code",
      "source": "train[['Survived', 'Sex', 'Age', 'Pclass', 'FlagSolo']].head(3) # Mostramos nuestra nueva tabla para comprobar que nuestra nueva variable se agrego correctamente",
      "metadata": {
        "trusted": true
      },
      "execution_count": 22,
      "outputs": [
        {
          "execution_count": 22,
          "output_type": "execute_result",
          "data": {
            "text/plain": "   Survived  Sex   Age  Pclass  FlagSolo\n0         0    0  22.0       3         0\n1         1    1  38.0       1         0\n2         1    1  26.0       3         1",
            "text/html": "<div>\n<style scoped>\n    .dataframe tbody tr th:only-of-type {\n        vertical-align: middle;\n    }\n\n    .dataframe tbody tr th {\n        vertical-align: top;\n    }\n\n    .dataframe thead th {\n        text-align: right;\n    }\n</style>\n<table border=\"1\" class=\"dataframe\">\n  <thead>\n    <tr style=\"text-align: right;\">\n      <th></th>\n      <th>Survived</th>\n      <th>Sex</th>\n      <th>Age</th>\n      <th>Pclass</th>\n      <th>FlagSolo</th>\n    </tr>\n  </thead>\n  <tbody>\n    <tr>\n      <th>0</th>\n      <td>0</td>\n      <td>0</td>\n      <td>22.0</td>\n      <td>3</td>\n      <td>0</td>\n    </tr>\n    <tr>\n      <th>1</th>\n      <td>1</td>\n      <td>1</td>\n      <td>38.0</td>\n      <td>1</td>\n      <td>0</td>\n    </tr>\n    <tr>\n      <th>2</th>\n      <td>1</td>\n      <td>1</td>\n      <td>26.0</td>\n      <td>3</td>\n      <td>1</td>\n    </tr>\n  </tbody>\n</table>\n</div>"
          },
          "metadata": {}
        }
      ],
      "id": "a09333c2-f844-4fab-9041-63463bd0705e"
    },
    {
      "cell_type": "code",
      "source": "# variable dependiente - esta sera nuestra variable de entrenamiento\nY_train = train['Survived']\n\n# preprocesamiento de variables independientes\nfeatures = ['Sex', 'Age', 'Pclass', 'FlagSolo']\nX_train = train[features]",
      "metadata": {
        "trusted": true
      },
      "execution_count": 23,
      "outputs": [
        {
          "name": "stdout",
          "text": "(891,) (891, 4)\n",
          "output_type": "stream"
        }
      ],
      "id": "d37c9ac4-547b-49a5-81ac-f4338293698d"
    },
    {
      "cell_type": "markdown",
      "source": "---\n## 6.Modelos de procesamiento\n#### Seleccionamos nuestros modelos de prueba\n- regresion logistica\n- arboles de decision\n---",
      "metadata": {},
      "id": "94efab03-239f-46a2-b527-3cdedc091dc1"
    },
    {
      "cell_type": "code",
      "source": "# entrenando modelo regresión logistica\nlogreg = LogisticRegression()\nlogreg.fit(X_train, Y_train)",
      "metadata": {
        "trusted": true
      },
      "execution_count": 24,
      "outputs": [
        {
          "execution_count": 24,
          "output_type": "execute_result",
          "data": {
            "text/plain": "LogisticRegression()"
          },
          "metadata": {}
        }
      ],
      "id": "85c560ea-a4fa-491d-bf5f-276872c4419b"
    },
    {
      "cell_type": "code",
      "source": "# entrenando modelo arboles de decisión\ndecision_tree = DecisionTreeClassifier()\ndecision_tree.fit(X_train, Y_train)",
      "metadata": {
        "trusted": true
      },
      "execution_count": 25,
      "outputs": [
        {
          "execution_count": 25,
          "output_type": "execute_result",
          "data": {
            "text/plain": "DecisionTreeClassifier()"
          },
          "metadata": {}
        }
      ],
      "id": "8b4ca3e7-27b2-457b-b248-f83ba0944c79"
    },
    {
      "cell_type": "markdown",
      "source": "## 7. Evaluacion de los modelos",
      "metadata": {},
      "id": "853dff3a-665d-4c70-a69f-19b974b1889c"
    },
    {
      "cell_type": "code",
      "source": "# Creamos una funcion para la evaluacion de que tan bien funciona nuestro modelo sobre los datos de entrenamiento usando una aproximacion del error\n# Para esto crearemos un grafico de confucion que nos indique esta informacion\ndef conf_mat_acc(modelo):\n  disp = plot_confusion_matrix(modelo, X_train, Y_train,\n                        cmap=plt.cm.Blues, values_format=\"d\")\n  true_pred = disp.confusion_matrix[0,0]+disp.confusion_matrix[1,1]\n  total_data = np.sum(disp.confusion_matrix)\n  accuracy = true_pred/total_data\n  print('accuracy: ', np.round(accuracy, 2))\n  plt.show()",
      "metadata": {
        "trusted": true
      },
      "execution_count": 26,
      "outputs": [],
      "id": "a2ae2e46-76e5-42f6-b145-64740c9a057f"
    },
    {
      "cell_type": "code",
      "source": "conf_mat_acc(logreg) # Generamos nuestro primer grafico de confucion para la regrecion logica",
      "metadata": {
        "trusted": true
      },
      "execution_count": 27,
      "outputs": [
        {
          "name": "stderr",
          "text": "/lib/python3.10/site-packages/sklearn/utils/deprecation.py:87: FutureWarning: Function plot_confusion_matrix is deprecated; Function `plot_confusion_matrix` is deprecated in 1.0 and will be removed in 1.2. Use one of the class methods: ConfusionMatrixDisplay.from_predictions or ConfusionMatrixDisplay.from_estimator.\n  warnings.warn(msg, category=FutureWarning)\n",
          "output_type": "stream"
        },
        {
          "name": "stdout",
          "text": "accuracy:  0.79\n",
          "output_type": "stream"
        },
        {
          "output_type": "display_data",
          "data": {
            "text/plain": "<pyolite.display.Image at 0x5ba5728>",
            "image/png": "[encoded data removed]"
          },
          "metadata": {}
        }
      ],
      "id": "90c348a7-31c1-478e-84c0-4159e007e23e"
    },
    {
      "cell_type": "markdown",
      "source": "> #### ***Aqui podemos ver que nuestro modelo tiene una presicion del 0.79 o un 79%***",
      "metadata": {},
      "id": "5f3eb5b2-a167-46b1-b827-5d93a7533190"
    },
    {
      "cell_type": "code",
      "source": "conf_mat_acc(decision_tree) # Generamos nuestro primer grafico de confucion para la Arbol de decisiones",
      "metadata": {
        "trusted": true
      },
      "execution_count": 28,
      "outputs": [
        {
          "name": "stderr",
          "text": "/lib/python3.10/site-packages/sklearn/utils/deprecation.py:87: FutureWarning: Function plot_confusion_matrix is deprecated; Function `plot_confusion_matrix` is deprecated in 1.0 and will be removed in 1.2. Use one of the class methods: ConfusionMatrixDisplay.from_predictions or ConfusionMatrixDisplay.from_estimator.\n  warnings.warn(msg, category=FutureWarning)\n",
          "output_type": "stream"
        },
        {
          "name": "stdout",
          "text": "accuracy:  0.89\n",
          "output_type": "stream"
        },
        {
          "output_type": "display_data",
          "data": {
            "text/plain": "<pyolite.display.Image at 0x5807458>",
            "image/png": "[encoded data removed]"
          },
          "metadata": {}
        }
      ],
      "id": "90d79794-7ee5-4b03-bdd6-4962b2e795f3"
    },
    {
      "cell_type": "markdown",
      "source": "> #### ***Aqui podemos ver que nuestro modelo tiene una presicion del 0.89 o un 89%***",
      "metadata": {},
      "id": "c0e43f47-672e-4a9f-b76d-7a436d54d7e9"
    },
    {
      "cell_type": "markdown",
      "source": "## 8. Evaluación sobre el test set\nAntes hicimos la matriz de confusión sobre el train set. Esto no es del todo correcto porque estamos utilizando como validación los datos que usamos de entrenamiento. Por lo tanto, la estimación del error sería sesgada y tendría poca capacidad de generalización a casos que no haya \"visto\" el modelo.\n\nPor eso necesitamos utilizar el test set. Sin embargo.",
      "metadata": {},
      "id": "0a89c033-747e-4031-9b86-eaea23f80a79"
    },
    {
      "cell_type": "code",
      "source": "\n# preprocesando test set\n\n# hacer map a Sex\ntest['Sex'] = test['Sex'].map({'female': 1, 'male': 0}).astype(int)\n\n# rellenar Age\ntest['Age'] = test['Age'].fillna(28.0)\n\n# Crear FlagSolo\ntest['FlagSolo'] = np.where(\n    (test['SibSp'] == 0) & (test['Parch'] == 0), 1, 0)",
      "metadata": {
        "trusted": true
      },
      "execution_count": 29,
      "outputs": [],
      "id": "d16aab55-d533-4c57-988e-3dec76a71ba4"
    },
    {
      "cell_type": "code",
      "source": "print(test.info())\ntest[features].head(3)",
      "metadata": {
        "trusted": true
      },
      "execution_count": 30,
      "outputs": [
        {
          "name": "stdout",
          "text": "<class 'pandas.core.frame.DataFrame'>\nRangeIndex: 418 entries, 0 to 417\nData columns (total 12 columns):\n #   Column       Non-Null Count  Dtype  \n---  ------       --------------  -----  \n 0   PassengerId  418 non-null    int64  \n 1   Pclass       418 non-null    int64  \n 2   Name         418 non-null    object \n 3   Sex          418 non-null    int32  \n 4   Age          418 non-null    float64\n 5   SibSp        418 non-null    int64  \n 6   Parch        418 non-null    int64  \n 7   Ticket       418 non-null    object \n 8   Fare         417 non-null    float64\n 9   Cabin        91 non-null     object \n 10  Embarked     418 non-null    object \n 11  FlagSolo     418 non-null    int32  \ndtypes: float64(2), int32(2), int64(4), object(4)\nmemory usage: 29.5+ KB\nNone\n",
          "output_type": "stream"
        },
        {
          "execution_count": 30,
          "output_type": "execute_result",
          "data": {
            "text/plain": "   Sex   Age  Pclass  FlagSolo\n0    0  34.5       3         1\n1    1  47.0       3         0\n2    0  62.0       2         1",
            "text/html": "<div>\n<style scoped>\n    .dataframe tbody tr th:only-of-type {\n        vertical-align: middle;\n    }\n\n    .dataframe tbody tr th {\n        vertical-align: top;\n    }\n\n    .dataframe thead th {\n        text-align: right;\n    }\n</style>\n<table border=\"1\" class=\"dataframe\">\n  <thead>\n    <tr style=\"text-align: right;\">\n      <th></th>\n      <th>Sex</th>\n      <th>Age</th>\n      <th>Pclass</th>\n      <th>FlagSolo</th>\n    </tr>\n  </thead>\n  <tbody>\n    <tr>\n      <th>0</th>\n      <td>0</td>\n      <td>34.5</td>\n      <td>3</td>\n      <td>1</td>\n    </tr>\n    <tr>\n      <th>1</th>\n      <td>1</td>\n      <td>47.0</td>\n      <td>3</td>\n      <td>0</td>\n    </tr>\n    <tr>\n      <th>2</th>\n      <td>0</td>\n      <td>62.0</td>\n      <td>2</td>\n      <td>1</td>\n    </tr>\n  </tbody>\n</table>\n</div>"
          },
          "metadata": {}
        }
      ],
      "id": "ef038a5c-8b63-44d3-b093-27bb916cdb3e"
    },
    {
      "cell_type": "code",
      "source": "# crear test set \nX_test = test[features]\n\nprint(X_test.shape)",
      "metadata": {
        "trusted": true
      },
      "execution_count": 31,
      "outputs": [
        {
          "name": "stdout",
          "text": "(418, 4)\n",
          "output_type": "stream"
        }
      ],
      "id": "5c8a3bd0-549d-4f5f-a9b6-fc7018a05217"
    },
    {
      "cell_type": "code",
      "source": "# prediccion de Survived en test set\nY_pred_log = logreg.predict(X_test)\nY_pred_tree = decision_tree.predict(X_test)\nprint(Y_pred_log[0:10]) # Imprimimos los 10 primeros registros ",
      "metadata": {
        "trusted": true
      },
      "execution_count": 32,
      "outputs": [
        {
          "name": "stdout",
          "text": "[0 0 0 0 1 0 1 0 1 0]\n",
          "output_type": "stream"
        }
      ],
      "id": "11c5c1cc-027f-4ce2-a3c7-81416f93ff61"
    },
    {
      "cell_type": "markdown",
      "source": ">Nota: Estas predicciones deberían ser ahora comparadas con el valor real para obtener una mejor estimación del error de predicción sobre el test set y poder escoger un modelo.\nSin embargo, como es una competicion de Kaggle este valor solo lo conoce la plataforma.\n\n- Vamos a exportar estos CSV y luego subirlos para ver cual tiene mejor rendimiento.",
      "metadata": {},
      "id": "cb8be74c-e5a5-4d4a-b283-2e03db01b587"
    },
    {
      "cell_type": "markdown",
      "source": "## 6. Predicción",
      "metadata": {},
      "id": "0a7ad81e-0bfd-4ad8-aeea-a9407e174eb7"
    },
    {
      "cell_type": "code",
      "source": "# prediciendo sobre el test set\nprint(Y_pred_log[0:20]) #Imprimimos los 20 primeros registros de nuestras predicciones\nprint(Y_pred_tree[0:20])",
      "metadata": {
        "trusted": true
      },
      "execution_count": 33,
      "outputs": [
        {
          "name": "stdout",
          "text": "[0 0 0 0 1 0 1 0 1 0 0 0 1 0 1 1 0 0 1 0]\n[0 0 1 1 0 0 0 0 0 0 0 0 1 0 1 1 0 0 1 0]\n",
          "output_type": "stream"
        }
      ],
      "id": "05b70cc5-7b6c-428f-a410-57b6e00e8638"
    },
    {
      "cell_type": "code",
      "source": "# Funcion para guardar los datos\ndef download_output(y_pred, name):\n  output = pd.DataFrame({'PassengerId': test.PassengerId, \n                         'Survived': y_pred})\n  output.to_csv(name, index=False)",
      "metadata": {
        "trusted": true
      },
      "execution_count": 34,
      "outputs": [],
      "id": "ffda651d-e5b3-4eff-9960-87d4f2ea3c20"
    },
    {
      "cell_type": "code",
      "source": "download_output(Y_pred_log, 'pred_log.csv') # Guardamos los datos de nuestra prediccion en archivos .csv\ndownload_output(Y_pred_tree, 'pred_tree.csv')",
      "metadata": {
        "trusted": true
      },
      "execution_count": 35,
      "outputs": [],
      "id": "68270ea0-88ac-44bb-8688-99d91bbf6bea"
    }
  ]
}